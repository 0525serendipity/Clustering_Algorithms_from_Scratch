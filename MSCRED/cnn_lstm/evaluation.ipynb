{
 "cells": [
  {
   "cell_type": "markdown",
   "metadata": {},
   "source": [
    "<i><small><small>\n",
    "All the IPython Notebooks in **Clustering Algorithms** lecture series by **[Dr. Milaan Parmar](https://www.linkedin.com/in/milaanparmar/)** are available @ **[GitHub](https://github.com/milaan9/Clustering_Algorithms)**\n",
    "</i></small></small>"
   ]
  },
  {
   "cell_type": "markdown",
   "metadata": {},
   "source": [
    "# Discrete Cosine Transform\n",
    "This is a little jupyter notebook that does a discrete cosine transform (DCT). DCT is a thing like the Fourier transform that's used in JPGs."
   ]
  },
  {
   "cell_type": "code",
   "execution_count": 1,
   "metadata": {
    "ExecuteTime": {
     "end_time": "2021-11-21T04:15:26.617569Z",
     "start_time": "2021-11-21T04:15:12.760606Z"
    },
    "jupyter": {
     "outputs_hidden": false
    }
   },
   "outputs": [
    {
     "ename": "ModuleNotFoundError",
     "evalue": "No module named 'cnn_lstm'",
     "output_type": "error",
     "traceback": [
      "\u001b[1;31m---------------------------------------------------------------------------\u001b[0m",
      "\u001b[1;31mModuleNotFoundError\u001b[0m                       Traceback (most recent call last)",
      "\u001b[1;32m<ipython-input-1-9683ec44b81d>\u001b[0m in \u001b[0;36m<module>\u001b[1;34m\u001b[0m\n\u001b[0;32m      9\u001b[0m \u001b[1;32mimport\u001b[0m \u001b[0mnumpy\u001b[0m \u001b[1;32mas\u001b[0m \u001b[0mnp\u001b[0m\u001b[1;33m\u001b[0m\u001b[1;33m\u001b[0m\u001b[0m\n\u001b[0;32m     10\u001b[0m \u001b[1;32mimport\u001b[0m \u001b[0mpandas\u001b[0m \u001b[1;32mas\u001b[0m \u001b[0mpd\u001b[0m\u001b[1;33m\u001b[0m\u001b[1;33m\u001b[0m\u001b[0m\n\u001b[1;32m---> 11\u001b[1;33m \u001b[1;32mimport\u001b[0m \u001b[0mcnn_lstm\u001b[0m\u001b[1;33m.\u001b[0m\u001b[0mutils\u001b[0m \u001b[1;32mas\u001b[0m \u001b[0mutil\u001b[0m\u001b[1;33m\u001b[0m\u001b[1;33m\u001b[0m\u001b[0m\n\u001b[0m\u001b[0;32m     12\u001b[0m \u001b[1;32mimport\u001b[0m \u001b[0mos\u001b[0m\u001b[1;33m\u001b[0m\u001b[1;33m\u001b[0m\u001b[0m\n\u001b[0;32m     13\u001b[0m \u001b[1;33m\u001b[0m\u001b[0m\n",
      "\u001b[1;31mModuleNotFoundError\u001b[0m: No module named 'cnn_lstm'"
     ]
    }
   ],
   "source": [
    "import numpy as np\n",
    "import matplotlib.pyplot as plt\n",
    "import os\n",
    "import utils as util\n",
    "import re\n",
    "\n",
    "# score initialization\n",
    "valid_anomaly_score = np.zeros((util.valid_end_id - util.valid_start_id, 1))\n",
    "test_anomaly_score = np.zeros((util.test_end_id - util.valid_end_id, 1))\n",
    "\n",
    "# load the data from file\n",
    "test_data_path = util.test_data_path\n",
    "reconstructed_data_path = util.reconstructed_data_path\n",
    "test_data_path = os.path.join(test_data_path, \"test.npy\")\n",
    "reconstructed_data_path = os.path.join(reconstructed_data_path, \"test_reconstructed.npy\")\n",
    "test_data = np.load(test_data_path)\n",
    "test_data = test_data[:, -1, ...]  # only compare the last matrix with the reconstructed data\n",
    "reconstructed_data = np.load(reconstructed_data_path)\n",
    "print(\"The shape of test data is {}\".format(test_data.shape))\n",
    "print(\"The shape of reconstructed data is {}\".format(reconstructed_data.shape))\n",
    "\n",
    "valid_len = util.valid_end_id - util.valid_start_id\n",
    "\n",
    "# compute the threshold, threshold = alpha * max{s(t)} , s(t) is the anomaly scores over validation period.\n",
    "for i in range(util.valid_end_id - util.valid_start_id):\n",
    "    error = np.square(np.subtract(test_data[i, ..., 0], reconstructed_data[i, ..., 0]))\n",
    "    num_anom = len(np.where(error > util.threhold))\n",
    "    valid_anomaly_score[i] = num_anom\n",
    "\n",
    "max_valid_anom = np.max(valid_anomaly_score)\n",
    "threshold = max_valid_anom * util.alpha\n",
    "\n",
    "print(\"Max valid anom is %.2f\" % max_valid_anom)\n",
    "print(\"Threshold is %.2f\" % threshold)\n",
    "\n",
    "# compute the anomaly score in the test data.\n",
    "for i in range(util.test_end_id - util.valid_end_id):\n",
    "    error = np.square(np.subtract(test_data[i, ..., 0], reconstructed_data[i, ..., 0]))\n",
    "    num_anom = len(np.where(error > threshold))\n",
    "    test_anomaly_score[i - valid_len] = num_anom\n",
    "\n",
    "# plot anomaly score curve and identification result\n",
    "anomaly_pos = np.zeros(5)\n",
    "root_cause_gt = np.zeros((5, 3))\n",
    "anomaly_span = [10, 30, 90]\n",
    "\n",
    "# Read the test_anomaly.csv, each line behalf of an anomaly, the first is the position, the next three number is the\n",
    "# root cause.\n",
    "root_cause_f = open(\"../data/test_anomaly.csv\", \"r\")\n",
    "\n",
    "root_cause_gt = np.loadtxt(root_cause_f, delimiter=\",\", dtype=np.int32)\n",
    "anomaly_pos = root_cause_gt[:, 0]\n",
    "anomaly_pos = [(anomaly_pos[i]/util.gap_time-util.test_start_id-anomaly_span[i % 3]/util.gap_time) for i in range(5)]\n",
    "for i in range(5):\n",
    "\troot_cause_gt[i][0] = anomaly_pos[i]\n",
    "\n",
    "\n",
    "fig, axes = plt.subplots()\n",
    "test_num = util.test_end_id - util.test_start_id\n",
    "plt.xticks(fontsize = 25)\n",
    "plt.ylim((0, 100))\n",
    "plt.yticks(np.arange(0, 101, 20), fontsize = 25)\n",
    "plt.plot(test_anomaly_score, 'b', linewidth = 2)\n",
    "threshold = np.full((test_num), max_valid_anom * util.alpha)\n",
    "axes.plot(threshold, color = 'black', linestyle = '--',linewidth = 2)\n",
    "for k in range(len(anomaly_pos)):\n",
    "    axes.axvspan(anomaly_pos[k], anomaly_pos[k] + anomaly_span[k%3]/util.gap_time, color='red', linewidth=2)\n",
    "\n",
    "labels = [' ', '0e3', '2e3', '4e3', '6e3', '8e3', '10e3']\n",
    "axes.set_xticklabels(labels, rotation = 25, fontsize = 20)\n",
    "plt.xlabel('Test Time', fontsize = 25)\n",
    "plt.ylabel('Anomaly Score', fontsize = 25)\n",
    "axes.spines['right'].set_visible(False)\n",
    "axes.spines['top'].set_visible(False)\n",
    "axes.yaxis.set_ticks_position('left')\n",
    "axes.xaxis.set_ticks_position('bottom')\n",
    "fig.subplots_adjust(bottom=0.25)\n",
    "fig.subplots_adjust(left=0.25)\n",
    "plt.title(\"MSCRED\", size = 25)\n",
    "plt.show()\n"
   ]
  },
  {
   "cell_type": "code",
   "execution_count": null,
   "metadata": {},
   "outputs": [],
   "source": []
  }
 ],
 "metadata": {
  "hide_input": false,
  "kernelspec": {
   "display_name": "Python 3",
   "language": "python",
   "name": "python3"
  },
  "language_info": {
   "codemirror_mode": {
    "name": "ipython",
    "version": 3
   },
   "file_extension": ".py",
   "mimetype": "text/x-python",
   "name": "python",
   "nbconvert_exporter": "python",
   "pygments_lexer": "ipython3",
   "version": "3.8.8"
  },
  "toc": {
   "base_numbering": 1,
   "nav_menu": {},
   "number_sections": true,
   "sideBar": true,
   "skip_h1_title": false,
   "title_cell": "Table of Contents",
   "title_sidebar": "Contents",
   "toc_cell": false,
   "toc_position": {},
   "toc_section_display": true,
   "toc_window_display": false
  },
  "varInspector": {
   "cols": {
    "lenName": 16,
    "lenType": 16,
    "lenVar": 40
   },
   "kernels_config": {
    "python": {
     "delete_cmd_postfix": "",
     "delete_cmd_prefix": "del ",
     "library": "var_list.py",
     "varRefreshCmd": "print(var_dic_list())"
    },
    "r": {
     "delete_cmd_postfix": ") ",
     "delete_cmd_prefix": "rm(",
     "library": "var_list.r",
     "varRefreshCmd": "cat(var_dic_list()) "
    }
   },
   "types_to_exclude": [
    "module",
    "function",
    "builtin_function_or_method",
    "instance",
    "_Feature"
   ],
   "window_display": false
  }
 },
 "nbformat": 4,
 "nbformat_minor": 4
}
