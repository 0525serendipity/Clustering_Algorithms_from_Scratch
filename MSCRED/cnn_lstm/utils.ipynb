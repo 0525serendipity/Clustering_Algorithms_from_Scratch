{
 "cells": [
  {
   "cell_type": "markdown",
   "metadata": {},
   "source": [
    "<i><small><small>\n",
    "All the IPython Notebooks in **Clustering Algorithms** lecture series by **[Dr. Milaan Parmar](https://www.linkedin.com/in/milaanparmar/)** are available @ **[GitHub](https://github.com/milaan9/Clustering_Algorithms)**\n",
    "</i></small></small>"
   ]
  },
  {
   "cell_type": "markdown",
   "metadata": {},
   "source": [
    "# Discrete Cosine Transform\n",
    "This is a little jupyter notebook that does a discrete cosine transform (DCT). DCT is a thing like the Fourier transform that's used in JPGs."
   ]
  },
  {
   "cell_type": "code",
   "execution_count": 1,
   "metadata": {
    "ExecuteTime": {
     "end_time": "2021-11-21T04:49:59.848457Z",
     "start_time": "2021-11-21T04:49:59.832459Z"
    },
    "jupyter": {
     "outputs_hidden": false
    }
   },
   "outputs": [],
   "source": [
    "# Parameter initialization\n",
    "\n",
    "gap_time = 10  # gap time between each segment\n",
    "win_size = [10, 30, 60]  # window size of each segment\n",
    "step_max = 5 # maximum step of ConvLSTM\n",
    "\n",
    "raw_data_path = '../data/synthetic_data_with_anomaly-s-1.csv'  # path to load raw data\n",
    "model_path = '../MSCRED/'\n",
    "train_data_path = \"../data/train/\"\n",
    "test_data_path = \"../data/test/\"\n",
    "reconstructed_data_path = \"../data/reconstructed/\"\n",
    "\n",
    "\n",
    "train_start_id = 10\n",
    "train_end_id = 800\n",
    "\n",
    "test_start_id = 800\n",
    "test_end_id = 2000\n",
    "\n",
    "valid_start_id = 800\n",
    "valid_end_id = 1000\n",
    "\n",
    "training_iters = 5\n",
    "save_model_step = 1\n",
    "\n",
    "learning_rate = 0.0002\n",
    "\n",
    "threhold = 0.005\n",
    "alpha = 1.5"
   ]
  },
  {
   "cell_type": "code",
   "execution_count": null,
   "metadata": {},
   "outputs": [],
   "source": []
  }
 ],
 "metadata": {
  "hide_input": false,
  "kernelspec": {
   "display_name": "Python 3",
   "language": "python",
   "name": "python3"
  },
  "language_info": {
   "codemirror_mode": {
    "name": "ipython",
    "version": 3
   },
   "file_extension": ".py",
   "mimetype": "text/x-python",
   "name": "python",
   "nbconvert_exporter": "python",
   "pygments_lexer": "ipython3",
   "version": "3.8.8"
  },
  "toc": {
   "base_numbering": 1,
   "nav_menu": {},
   "number_sections": true,
   "sideBar": true,
   "skip_h1_title": false,
   "title_cell": "Table of Contents",
   "title_sidebar": "Contents",
   "toc_cell": false,
   "toc_position": {},
   "toc_section_display": true,
   "toc_window_display": false
  },
  "varInspector": {
   "cols": {
    "lenName": 16,
    "lenType": 16,
    "lenVar": 40
   },
   "kernels_config": {
    "python": {
     "delete_cmd_postfix": "",
     "delete_cmd_prefix": "del ",
     "library": "var_list.py",
     "varRefreshCmd": "print(var_dic_list())"
    },
    "r": {
     "delete_cmd_postfix": ") ",
     "delete_cmd_prefix": "rm(",
     "library": "var_list.r",
     "varRefreshCmd": "cat(var_dic_list()) "
    }
   },
   "types_to_exclude": [
    "module",
    "function",
    "builtin_function_or_method",
    "instance",
    "_Feature"
   ],
   "window_display": false
  }
 },
 "nbformat": 4,
 "nbformat_minor": 4
}
